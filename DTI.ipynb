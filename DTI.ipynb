{
 "cells": [
  {
   "cell_type": "markdown",
   "id": "macro-stick",
   "metadata": {},
   "source": [
    "## Diffusion Tensor Imaging\n",
    "\n",
    "### Conversion of CT data"
   ]
  },
  {
   "cell_type": "code",
   "execution_count": 1,
   "id": "confirmed-translator",
   "metadata": {},
   "outputs": [],
   "source": [
    "# Loading CT data\n",
    "img_path=\"https://github.com/Topaz765/DTI-Porous-media/raw/refs/heads/main/Empty%20scaffold.tif\";"
   ]
  },
  {
   "cell_type": "code",
   "execution_count": 2,
   "id": "sunset-employer",
   "metadata": {},
   "outputs": [
    {
     "name": "stderr",
     "output_type": "stream",
     "text": [
      "\u001b[32mProgress: 100%|█████████████████████████████████████████| Time: 0:00:02\u001b[39m\n"
     ]
    }
   ],
   "source": [
    "using HTTP, Images, FileIO\n",
    "\n",
    "# Download the file from the URL\n",
    "response = HTTP.get(img_path)\n",
    "\n",
    "# Save the file to a temporary location\n",
    "file_path = \"downloaded_image.tif\"\n",
    "open(file_path, \"w\") do file\n",
    "    write(file, response.body)\n",
    "end\n",
    "\n",
    "#Load the image\n",
    "img=load(file_path);"
   ]
  },
  {
   "cell_type": "code",
   "execution_count": 3,
   "id": "prescription-easter",
   "metadata": {},
   "outputs": [],
   "source": [
    "# Will stack the image to produce a cubic array\n",
    "# This assumes an array of size a x a x b where a>b\n",
    "function fillingfull(img)\n",
    "    a=size(img)[1]; b=size(img)[3]\n",
    "    c = Int(ceil(a/b)); d = Int(c*b)\n",
    "    box = zeros(a,a,d)\n",
    "    for z in 1:c\n",
    "        for i in 1:a, j in 1:a, k in 1:b\n",
    "            box[i,j,Int(k+b*(z-1))] = img[i,j,k]\n",
    "        end\n",
    "    end\n",
    "    \n",
    "    Box=box[:,:,1:size(box)[1]]\n",
    "    return Box\n",
    "end\n",
    "img=fillingfull(img);"
   ]
  },
  {
   "cell_type": "markdown",
   "id": "fixed-acquisition",
   "metadata": {},
   "source": [
    "If it not already binarized, this will convert each voxel to either a 1 or a 0, and use this to select the correct size. Thus producing the structure function"
   ]
  },
  {
   "cell_type": "code",
   "execution_count": 4,
   "id": "working-driving",
   "metadata": {},
   "outputs": [],
   "source": [
    "A=convert(Array{Float32,3},img[:,:,:])\n",
    "Gray.(A[:,:,10])\n",
    "# Pores are given a value of 0, solid material is given a value of 1\n",
    "b=map(x->x<0.5 ? UInt8(1) : UInt8(0), A)\n",
    "img_dim=size(b)[1]\n",
    "rho=b[:,:,:];"
   ]
  },
  {
   "cell_type": "markdown",
   "id": "cooperative-blogger",
   "metadata": {},
   "source": [
    "### DTI"
   ]
  },
  {
   "cell_type": "code",
   "execution_count": 21,
   "id": "facial-likelihood",
   "metadata": {},
   "outputs": [],
   "source": [
    "using Distributed\n",
    "# Add as many processors as desired\n",
    "addprocs(0)\n",
    "@everywhere using LinearAlgebra, Distributed, Distributions, SharedArrays, Random, Measures, Interpolations, HDF5, CSV, DataFrames, Plots;"
   ]
  },
  {
   "cell_type": "code",
   "execution_count": 6,
   "id": "fallen-thanksgiving",
   "metadata": {},
   "outputs": [],
   "source": [
    "# Function to produce random walk within given structure function\n",
    "@everywhere function diffusion_trajectory(Δ,rho;nmax=size(rho)[1])\n",
    "    \n",
    "    # Setting up blank arrays for the jump, particle initial position, and list of trajectories\n",
    "    jump = zeros(Float32,3)\n",
    "    new = zeros(Float32,3)\n",
    "    sides = Array{Float32}[]\n",
    "    \n",
    "    n = 5000 #The number of successful steps to take\n",
    "    x = Δ / n #The time step for each random step\n",
    "    ran = Normal(0,sqrt(x*2*D)/a) #The normal distribution from which the random step size is derived (based on the step time)\n",
    "\n",
    "    #Selecting a random initial point from a central cube\n",
    "    while true\n",
    "        pos=[rand(150:362),rand(150:362),rand(150:362)]\n",
    "        if (rho[pos...]==0)\n",
    "            push!(sides,pos)\n",
    "            break\n",
    "            false\n",
    "        end\n",
    "    end\n",
    "    pos = sides[1]\n",
    "    \n",
    "    # Taking random steps that lie within the pores of the structure function\n",
    "    k=1\n",
    "    while k<=n\n",
    "        jump=rand(ran,3) .|> (x->convert(Float32,x))\n",
    "        new=pos+jump\n",
    "            new=new.|>(x->x>nmax ? nmax-(x-nmax) : x)\n",
    "            new=new.|>(x->x<1 ? 1+(1-x) : x)\n",
    "        k+=1\n",
    "        if rho[new...] <= 0.5\n",
    "            pos=new\n",
    "        else k=k-1\n",
    "        end\n",
    "    end\n",
    "    push!(sides,new)\n",
    "    \n",
    "    return sides\n",
    "end"
   ]
  },
  {
   "cell_type": "code",
   "execution_count": 7,
   "id": "provincial-bible",
   "metadata": {},
   "outputs": [],
   "source": [
    "# Interpolating structure function\n",
    "rho = interpolate(rho, BSpline(Linear()));"
   ]
  },
  {
   "cell_type": "code",
   "execution_count": 8,
   "id": "scheduled-category",
   "metadata": {},
   "outputs": [],
   "source": [
    "# Setting up parameters\n",
    "@everywhere begin\n",
    "a = 6.00e-6          # resolution of u-CT data (meters)    \n",
    "D = 2.2e-10          # diffusion coefficient\n",
    "n = 2e1;             # number of molecules to average\n",
    "end"
   ]
  },
  {
   "cell_type": "code",
   "execution_count": 9,
   "id": "serial-australia",
   "metadata": {},
   "outputs": [],
   "source": [
    "#A function to measure the difference between two vectors\n",
    "@everywhere dist(tj) = sqrt((tj[1][1]-tj[2][1])^2 + (tj[1][2]-tj[2][2])^2 + (tj[1][3]-tj[2][3])^2)"
   ]
  },
  {
   "cell_type": "code",
   "execution_count": 10,
   "id": "facial-accessory",
   "metadata": {},
   "outputs": [],
   "source": [
    "# A function to calculate the diffusion matrix for one diffusion time\n",
    "@everywhere function diff_tensor(n,rho,Δ)\n",
    "    \n",
    "    #Setting up empty arrays to contain the elements of the diffusion tensor\n",
    "    Dxx = convert(SharedArray{Float32,1},zeros(1)); Dyy = convert(SharedArray{Float32,1},zeros(1)) \n",
    "    Dzz = convert(SharedArray{Float32,1},zeros(1)); Dxy = convert(SharedArray{Float32,1},zeros(1))\n",
    "    Dxz = convert(SharedArray{Float32,1},zeros(1)); Dyz = convert(SharedArray{Float32,1},zeros(1))\n",
    "    av_dist = convert(SharedArray{Float32,1},zeros(1))\n",
    "        \n",
    "    @sync @distributed for i in 1:n\n",
    "        tj = diffusion_trajectory(Δ,rho) #Producing list of step trajectories\n",
    "        #Summing the value of each diffusion coefficient for each vector in the trajectory list\n",
    "        Dxx[1] = Dxx[1] + ((tj[1][1] - tj[2][1])*a)^2 / (2*Δ)\n",
    "        Dyy[1] = Dyy[1] + ((tj[1][2] - tj[2][2])*a)^2 / (2*Δ)\n",
    "        Dzz[1] = Dzz[1] + ((tj[1][3] - tj[2][3])*a)^2 / (2*Δ)\n",
    "            \n",
    "        Dxy[1] = Dxy[1] + (((tj[1][1] - tj[2][1]) * (tj[1][2] - tj[2][2]))*a^2) / (2*Δ)\n",
    "        Dxz[1] = Dxz[1] + (((tj[1][1] - tj[2][1]) * (tj[1][3] - tj[2][3]))*a^2) / (2*Δ)\n",
    "        Dyz[1] = Dyz[1] + (((tj[1][2] - tj[2][2]) * (tj[1][3] - tj[2][3]))*a^2) / (2*Δ)\n",
    "        \n",
    "        av_dist[1] = av_dist[1] + dist(tj)\n",
    "\n",
    "    end\n",
    "    \n",
    "    #Averaging the diffusion tensor elements of the number of steps taken\n",
    "    Dp = [Dxx Dxy Dxz ; Dxy Dyy Dyz ; Dxz Dyz Dzz]./n\n",
    "    av_dist = av_dist./n\n",
    "         \n",
    "    return Dp, av_dist\n",
    "end"
   ]
  },
  {
   "cell_type": "code",
   "execution_count": 11,
   "id": "primary-venezuela",
   "metadata": {},
   "outputs": [],
   "source": [
    "# A function to measure the tortuosity as a function of diffusion times\n",
    "@everywhere begin\n",
    "    function tortuosity_undiag(shape,times)\n",
    "    \n",
    "        #Setting up empty arrays to host the tensor elements\n",
    "        Dxx = convert(SharedArray{Float32,1},zeros(length(times))); Dxy = convert(SharedArray{Float32,1},zeros(length(times)))\n",
    "        Dxz = convert(SharedArray{Float32,1},zeros(length(times))); Dyy = convert(SharedArray{Float32,1},zeros(length(times)))\n",
    "        Dyz = convert(SharedArray{Float32,1},zeros(length(times))); Dzz = convert(SharedArray{Float32,1},zeros(length(times)))\n",
    "        @sync @distributed for i in 1:length(times)\n",
    "            mat = diff_tensor(n,shape,times[i])[1] #Producing the diffusion tensor\n",
    "            #fit[i] = 1/3*tr(mat) #Calculating the tensor trace\n",
    "            #Assigning each element within the diffusion tensor\n",
    "            Dxx[i] = mat[1] ; Dxy[i] = mat[2] \n",
    "            Dxz[i] = mat[3] ; Dyy[i] = mat[5] \n",
    "            Dyz[i] = mat[8] ; Dzz[i] = mat[9]\n",
    "        end\n",
    "    \n",
    "        return Dxx, Dxy, Dxz, Dyy, Dyz, Dzz\n",
    "    end\n",
    "end"
   ]
  },
  {
   "cell_type": "code",
   "execution_count": 12,
   "id": "greenhouse-market",
   "metadata": {},
   "outputs": [],
   "source": [
    "# A function to diagonalize the matricies at each diffusion time\n",
    "@everywhere begin\n",
    "    function diagonalise(undiag,times)\n",
    "        \n",
    "        #Setting up empty arrays to host the tensor elements and trace\n",
    "        Tort = convert(SharedArray{Float32,1},zeros(length(times))); D_xx = convert(SharedArray{Float32,1},zeros(length(times)))\n",
    "        D_yy = convert(SharedArray{Float32,1},zeros(length(times))); D_zz = convert(SharedArray{Float32,1},zeros(length(times)))\n",
    "        \n",
    "        @sync @distributed for i in 1:length(times)\n",
    "        Mat=[undiag[1][i] undiag[2][i] undiag[3][i] ; undiag[2][i] undiag[4][i] undiag[5][i] ; undiag[3][i] undiag[5][i] undiag[6][i]]\n",
    "            eigenvals = eigvals(Mat)\n",
    "            D_xx[i] = eigenvals[1]\n",
    "            D_yy[i] = eigenvals[2]\n",
    "            D_zz[i] = eigenvals[3]\n",
    "            Tort[i] = ((D_xx[i]+D_yy[i]+D_zz[i])/3)/D         \n",
    "        end\n",
    "    \n",
    "        return Tort, D_xx, D_yy, D_zz\n",
    "    end\n",
    "end"
   ]
  },
  {
   "cell_type": "code",
   "execution_count": 13,
   "id": "sustained-brook",
   "metadata": {},
   "outputs": [],
   "source": [
    "#The list of diffusion times to measure\n",
    "times = vcat([0.01,1,10],[i for i in 30:30:240]);"
   ]
  },
  {
   "cell_type": "code",
   "execution_count": 14,
   "id": "visible-remark",
   "metadata": {},
   "outputs": [
    {
     "name": "stdout",
     "output_type": "stream",
     "text": [
      " 13.855328 seconds (29.28 M allocations: 1.145 GiB, 12.99% gc time, 42.57% compilation time)\n"
     ]
    }
   ],
   "source": [
    "#Measuring the tortuosity for undiagonalized matricies\n",
    "@time tort_undiag = tortuosity_undiag(rho,times);"
   ]
  },
  {
   "cell_type": "code",
   "execution_count": 15,
   "id": "floating-remark",
   "metadata": {},
   "outputs": [
    {
     "name": "stdout",
     "output_type": "stream",
     "text": [
      "  1.408651 seconds (990.81 k allocations: 52.468 MiB, 1.86% gc time, 98.68% compilation time)\n"
     ]
    }
   ],
   "source": [
    "#Measuring the tortuosity for diagonalized matricies\n",
    "@time tort_diag = diagonalise(tort_undiag,times);"
   ]
  },
  {
   "cell_type": "code",
   "execution_count": 16,
   "id": "proprietary-spine",
   "metadata": {},
   "outputs": [
    {
     "data": {
      "image/svg+xml": [
       "<?xml version=\"1.0\" encoding=\"utf-8\"?>\n",
       "<svg xmlns=\"http://www.w3.org/2000/svg\" xmlns:xlink=\"http://www.w3.org/1999/xlink\" width=\"600\" height=\"400\" viewBox=\"0 0 2400 1600\">\n",
       "<defs>\n",
       "  <clipPath id=\"clip950\">\n",
       "    <rect x=\"0\" y=\"0\" width=\"2400\" height=\"1600\"/>\n",
       "  </clipPath>\n",
       "</defs>\n",
       "<path clip-path=\"url(#clip950)\" d=\"\n",
       "M0 1600 L2400 1600 L2400 0 L0 0  Z\n",
       "  \" fill=\"#ffffff\" fill-rule=\"evenodd\" fill-opacity=\"1\"/>\n",
       "<defs>\n",
       "  <clipPath id=\"clip951\">\n",
       "    <rect x=\"480\" y=\"0\" width=\"1681\" height=\"1600\"/>\n",
       "  </clipPath>\n",
       "</defs>\n",
       "<path clip-path=\"url(#clip950)\" d=\"\n",
       "M249.542 1423.18 L2352.76 1423.18 L2352.76 47.2441 L249.542 47.2441  Z\n",
       "  \" fill=\"#ffffff\" fill-rule=\"evenodd\" fill-opacity=\"1\"/>\n",
       "<defs>\n",
       "  <clipPath id=\"clip952\">\n",
       "    <rect x=\"249\" y=\"47\" width=\"2104\" height=\"1377\"/>\n",
       "  </clipPath>\n",
       "</defs>\n",
       "<polyline clip-path=\"url(#clip952)\" style=\"stroke:#000000; stroke-linecap:butt; stroke-linejoin:round; stroke-width:2; stroke-opacity:0.1; fill:none\" points=\"\n",
       "  308.984,1423.18 308.984,47.2441 \n",
       "  \"/>\n",
       "<polyline clip-path=\"url(#clip952)\" style=\"stroke:#000000; stroke-linecap:butt; stroke-linejoin:round; stroke-width:2; stroke-opacity:0.1; fill:none\" points=\"\n",
       "  722.369,1423.18 722.369,47.2441 \n",
       "  \"/>\n",
       "<polyline clip-path=\"url(#clip952)\" style=\"stroke:#000000; stroke-linecap:butt; stroke-linejoin:round; stroke-width:2; stroke-opacity:0.1; fill:none\" points=\"\n",
       "  1135.75,1423.18 1135.75,47.2441 \n",
       "  \"/>\n",
       "<polyline clip-path=\"url(#clip952)\" style=\"stroke:#000000; stroke-linecap:butt; stroke-linejoin:round; stroke-width:2; stroke-opacity:0.1; fill:none\" points=\"\n",
       "  1549.14,1423.18 1549.14,47.2441 \n",
       "  \"/>\n",
       "<polyline clip-path=\"url(#clip952)\" style=\"stroke:#000000; stroke-linecap:butt; stroke-linejoin:round; stroke-width:2; stroke-opacity:0.1; fill:none\" points=\"\n",
       "  1962.52,1423.18 1962.52,47.2441 \n",
       "  \"/>\n",
       "<polyline clip-path=\"url(#clip950)\" style=\"stroke:#000000; stroke-linecap:butt; stroke-linejoin:round; stroke-width:4; stroke-opacity:1; fill:none\" points=\"\n",
       "  249.542,1423.18 2352.76,1423.18 \n",
       "  \"/>\n",
       "<polyline clip-path=\"url(#clip950)\" style=\"stroke:#000000; stroke-linecap:butt; stroke-linejoin:round; stroke-width:4; stroke-opacity:1; fill:none\" points=\"\n",
       "  308.984,1423.18 308.984,1404.28 \n",
       "  \"/>\n",
       "<polyline clip-path=\"url(#clip950)\" style=\"stroke:#000000; stroke-linecap:butt; stroke-linejoin:round; stroke-width:4; stroke-opacity:1; fill:none\" points=\"\n",
       "  722.369,1423.18 722.369,1404.28 \n",
       "  \"/>\n",
       "<polyline clip-path=\"url(#clip950)\" style=\"stroke:#000000; stroke-linecap:butt; stroke-linejoin:round; stroke-width:4; stroke-opacity:1; fill:none\" points=\"\n",
       "  1135.75,1423.18 1135.75,1404.28 \n",
       "  \"/>\n",
       "<polyline clip-path=\"url(#clip950)\" style=\"stroke:#000000; stroke-linecap:butt; stroke-linejoin:round; stroke-width:4; stroke-opacity:1; fill:none\" points=\"\n",
       "  1549.14,1423.18 1549.14,1404.28 \n",
       "  \"/>\n",
       "<polyline clip-path=\"url(#clip950)\" style=\"stroke:#000000; stroke-linecap:butt; stroke-linejoin:round; stroke-width:4; stroke-opacity:1; fill:none\" points=\"\n",
       "  1962.52,1423.18 1962.52,1404.28 \n",
       "  \"/>\n",
       "<path clip-path=\"url(#clip950)\" d=\"M308.984 1454.1 Q305.373 1454.1 303.544 1457.66 Q301.739 1461.2 301.739 1468.33 Q301.739 1475.44 303.544 1479.01 Q305.373 1482.55 308.984 1482.55 Q312.619 1482.55 314.424 1479.01 Q316.253 1475.44 316.253 1468.33 Q316.253 1461.2 314.424 1457.66 Q312.619 1454.1 308.984 1454.1 M308.984 1450.39 Q314.794 1450.39 317.85 1455 Q320.929 1459.58 320.929 1468.33 Q320.929 1477.06 317.85 1481.67 Q314.794 1486.25 308.984 1486.25 Q303.174 1486.25 300.095 1481.67 Q297.04 1477.06 297.04 1468.33 Q297.04 1459.58 300.095 1455 Q303.174 1450.39 308.984 1450.39 Z\" fill=\"#000000\" fill-rule=\"evenodd\" fill-opacity=\"1\" /><path clip-path=\"url(#clip950)\" d=\"M697.068 1451.02 L715.425 1451.02 L715.425 1454.96 L701.351 1454.96 L701.351 1463.43 Q702.369 1463.08 703.388 1462.92 Q704.406 1462.73 705.425 1462.73 Q711.212 1462.73 714.591 1465.9 Q717.971 1469.08 717.971 1474.49 Q717.971 1480.07 714.499 1483.17 Q711.026 1486.25 704.707 1486.25 Q702.531 1486.25 700.263 1485.88 Q698.017 1485.51 695.61 1484.77 L695.61 1480.07 Q697.693 1481.2 699.915 1481.76 Q702.138 1482.32 704.614 1482.32 Q708.619 1482.32 710.957 1480.21 Q713.295 1478.1 713.295 1474.49 Q713.295 1470.88 710.957 1468.77 Q708.619 1466.67 704.614 1466.67 Q702.739 1466.67 700.864 1467.08 Q699.013 1467.5 697.068 1468.38 L697.068 1451.02 Z\" fill=\"#000000\" fill-rule=\"evenodd\" fill-opacity=\"1\" /><path clip-path=\"url(#clip950)\" d=\"M737.184 1454.1 Q733.573 1454.1 731.744 1457.66 Q729.938 1461.2 729.938 1468.33 Q729.938 1475.44 731.744 1479.01 Q733.573 1482.55 737.184 1482.55 Q740.818 1482.55 742.624 1479.01 Q744.452 1475.44 744.452 1468.33 Q744.452 1461.2 742.624 1457.66 Q740.818 1454.1 737.184 1454.1 M737.184 1450.39 Q742.994 1450.39 746.049 1455 Q749.128 1459.58 749.128 1468.33 Q749.128 1477.06 746.049 1481.67 Q742.994 1486.25 737.184 1486.25 Q731.374 1486.25 728.295 1481.67 Q725.239 1477.06 725.239 1468.33 Q725.239 1459.58 728.295 1455 Q731.374 1450.39 737.184 1450.39 Z\" fill=\"#000000\" fill-rule=\"evenodd\" fill-opacity=\"1\" /><path clip-path=\"url(#clip950)\" d=\"M1095.36 1481.64 L1103 1481.64 L1103 1455.28 L1094.69 1456.95 L1094.69 1452.69 L1102.95 1451.02 L1107.63 1451.02 L1107.63 1481.64 L1115.27 1481.64 L1115.27 1485.58 L1095.36 1485.58 L1095.36 1481.64 Z\" fill=\"#000000\" fill-rule=\"evenodd\" fill-opacity=\"1\" /><path clip-path=\"url(#clip950)\" d=\"M1134.71 1454.1 Q1131.1 1454.1 1129.27 1457.66 Q1127.47 1461.2 1127.47 1468.33 Q1127.47 1475.44 1129.27 1479.01 Q1131.1 1482.55 1134.71 1482.55 Q1138.35 1482.55 1140.15 1479.01 Q1141.98 1475.44 1141.98 1468.33 Q1141.98 1461.2 1140.15 1457.66 Q1138.35 1454.1 1134.71 1454.1 M1134.71 1450.39 Q1140.52 1450.39 1143.58 1455 Q1146.66 1459.58 1146.66 1468.33 Q1146.66 1477.06 1143.58 1481.67 Q1140.52 1486.25 1134.71 1486.25 Q1128.9 1486.25 1125.82 1481.67 Q1122.77 1477.06 1122.77 1468.33 Q1122.77 1459.58 1125.82 1455 Q1128.9 1450.39 1134.71 1450.39 Z\" fill=\"#000000\" fill-rule=\"evenodd\" fill-opacity=\"1\" /><path clip-path=\"url(#clip950)\" d=\"M1164.87 1454.1 Q1161.26 1454.1 1159.43 1457.66 Q1157.63 1461.2 1157.63 1468.33 Q1157.63 1475.44 1159.43 1479.01 Q1161.26 1482.55 1164.87 1482.55 Q1168.51 1482.55 1170.31 1479.01 Q1172.14 1475.44 1172.14 1468.33 Q1172.14 1461.2 1170.31 1457.66 Q1168.51 1454.1 1164.87 1454.1 M1164.87 1450.39 Q1170.68 1450.39 1173.74 1455 Q1176.82 1459.58 1176.82 1468.33 Q1176.82 1477.06 1173.74 1481.67 Q1170.68 1486.25 1164.87 1486.25 Q1159.06 1486.25 1155.99 1481.67 Q1152.93 1477.06 1152.93 1468.33 Q1152.93 1459.58 1155.99 1455 Q1159.06 1450.39 1164.87 1450.39 Z\" fill=\"#000000\" fill-rule=\"evenodd\" fill-opacity=\"1\" /><path clip-path=\"url(#clip950)\" d=\"M1508.75 1481.64 L1516.38 1481.64 L1516.38 1455.28 L1508.07 1456.95 L1508.07 1452.69 L1516.34 1451.02 L1521.01 1451.02 L1521.01 1481.64 L1528.65 1481.64 L1528.65 1485.58 L1508.75 1485.58 L1508.75 1481.64 Z\" fill=\"#000000\" fill-rule=\"evenodd\" fill-opacity=\"1\" /><path clip-path=\"url(#clip950)\" d=\"M1538.14 1451.02 L1556.5 1451.02 L1556.5 1454.96 L1542.43 1454.96 L1542.43 1463.43 Q1543.44 1463.08 1544.46 1462.92 Q1545.48 1462.73 1546.5 1462.73 Q1552.29 1462.73 1555.67 1465.9 Q1559.05 1469.08 1559.05 1474.49 Q1559.05 1480.07 1555.57 1483.17 Q1552.1 1486.25 1545.78 1486.25 Q1543.61 1486.25 1541.34 1485.88 Q1539.09 1485.51 1536.68 1484.77 L1536.68 1480.07 Q1538.77 1481.2 1540.99 1481.76 Q1543.21 1482.32 1545.69 1482.32 Q1549.69 1482.32 1552.03 1480.21 Q1554.37 1478.1 1554.37 1474.49 Q1554.37 1470.88 1552.03 1468.77 Q1549.69 1466.67 1545.69 1466.67 Q1543.81 1466.67 1541.94 1467.08 Q1540.09 1467.5 1538.14 1468.38 L1538.14 1451.02 Z\" fill=\"#000000\" fill-rule=\"evenodd\" fill-opacity=\"1\" /><path clip-path=\"url(#clip950)\" d=\"M1578.26 1454.1 Q1574.65 1454.1 1572.82 1457.66 Q1571.01 1461.2 1571.01 1468.33 Q1571.01 1475.44 1572.82 1479.01 Q1574.65 1482.55 1578.26 1482.55 Q1581.89 1482.55 1583.7 1479.01 Q1585.53 1475.44 1585.53 1468.33 Q1585.53 1461.2 1583.7 1457.66 Q1581.89 1454.1 1578.26 1454.1 M1578.26 1450.39 Q1584.07 1450.39 1587.12 1455 Q1590.2 1459.58 1590.2 1468.33 Q1590.2 1477.06 1587.12 1481.67 Q1584.07 1486.25 1578.26 1486.25 Q1572.45 1486.25 1569.37 1481.67 Q1566.31 1477.06 1566.31 1468.33 Q1566.31 1459.58 1569.37 1455 Q1572.45 1450.39 1578.26 1450.39 Z\" fill=\"#000000\" fill-rule=\"evenodd\" fill-opacity=\"1\" /><path clip-path=\"url(#clip950)\" d=\"M1926.22 1481.64 L1942.53 1481.64 L1942.53 1485.58 L1920.59 1485.58 L1920.59 1481.64 Q1923.25 1478.89 1927.84 1474.26 Q1932.44 1469.61 1933.62 1468.27 Q1935.87 1465.74 1936.75 1464.01 Q1937.65 1462.25 1937.65 1460.56 Q1937.65 1457.8 1935.71 1456.07 Q1933.78 1454.33 1930.68 1454.33 Q1928.48 1454.33 1926.03 1455.09 Q1923.6 1455.86 1920.82 1457.41 L1920.82 1452.69 Q1923.65 1451.55 1926.1 1450.97 Q1928.55 1450.39 1930.59 1450.39 Q1935.96 1450.39 1939.16 1453.08 Q1942.35 1455.77 1942.35 1460.26 Q1942.35 1462.39 1941.54 1464.31 Q1940.75 1466.2 1938.65 1468.8 Q1938.07 1469.47 1934.97 1472.69 Q1931.86 1475.88 1926.22 1481.64 Z\" fill=\"#000000\" fill-rule=\"evenodd\" fill-opacity=\"1\" /><path clip-path=\"url(#clip950)\" d=\"M1962.35 1454.1 Q1958.74 1454.1 1956.91 1457.66 Q1955.1 1461.2 1955.1 1468.33 Q1955.1 1475.44 1956.91 1479.01 Q1958.74 1482.55 1962.35 1482.55 Q1965.98 1482.55 1967.79 1479.01 Q1969.62 1475.44 1969.62 1468.33 Q1969.62 1461.2 1967.79 1457.66 Q1965.98 1454.1 1962.35 1454.1 M1962.35 1450.39 Q1968.16 1450.39 1971.22 1455 Q1974.29 1459.58 1974.29 1468.33 Q1974.29 1477.06 1971.22 1481.67 Q1968.16 1486.25 1962.35 1486.25 Q1956.54 1486.25 1953.46 1481.67 Q1950.41 1477.06 1950.41 1468.33 Q1950.41 1459.58 1953.46 1455 Q1956.54 1450.39 1962.35 1450.39 Z\" fill=\"#000000\" fill-rule=\"evenodd\" fill-opacity=\"1\" /><path clip-path=\"url(#clip950)\" d=\"M1992.51 1454.1 Q1988.9 1454.1 1987.07 1457.66 Q1985.27 1461.2 1985.27 1468.33 Q1985.27 1475.44 1987.07 1479.01 Q1988.9 1482.55 1992.51 1482.55 Q1996.15 1482.55 1997.95 1479.01 Q1999.78 1475.44 1999.78 1468.33 Q1999.78 1461.2 1997.95 1457.66 Q1996.15 1454.1 1992.51 1454.1 M1992.51 1450.39 Q1998.32 1450.39 2001.38 1455 Q2004.46 1459.58 2004.46 1468.33 Q2004.46 1477.06 2001.38 1481.67 Q1998.32 1486.25 1992.51 1486.25 Q1986.7 1486.25 1983.62 1481.67 Q1980.57 1477.06 1980.57 1468.33 Q1980.57 1459.58 1983.62 1455 Q1986.7 1450.39 1992.51 1450.39 Z\" fill=\"#000000\" fill-rule=\"evenodd\" fill-opacity=\"1\" /><path clip-path=\"url(#clip950)\" d=\"M1253.79 1526.86 L1240.74 1562.7 L1266.87 1562.7 L1253.79 1526.86 M1232.02 1568.04 L1250.16 1520.52 L1257.45 1520.52 L1275.56 1568.04 L1232.02 1568.04 Z\" fill=\"#000000\" fill-rule=\"evenodd\" fill-opacity=\"1\" /><path clip-path=\"url(#clip950)\" d=\"M1313.37 1520.52 L1318.78 1520.52 L1302.23 1574.09 L1296.82 1574.09 L1313.37 1520.52 Z\" fill=\"#000000\" fill-rule=\"evenodd\" fill-opacity=\"1\" /><path clip-path=\"url(#clip950)\" d=\"M1368.37 1533.45 L1368.37 1538.98 Q1365.89 1537.71 1363.21 1537.07 Q1360.54 1536.44 1357.68 1536.44 Q1353.32 1536.44 1351.12 1537.77 Q1348.96 1539.11 1348.96 1541.79 Q1348.96 1543.82 1350.52 1545 Q1352.07 1546.15 1356.79 1547.2 L1358.79 1547.64 Q1365.03 1548.98 1367.64 1551.43 Q1370.28 1553.85 1370.28 1558.21 Q1370.28 1563.17 1366.33 1566.07 Q1362.42 1568.97 1355.54 1568.97 Q1352.68 1568.97 1349.56 1568.39 Q1346.47 1567.85 1343.04 1566.74 L1343.04 1560.69 Q1346.28 1562.38 1349.43 1563.24 Q1352.58 1564.07 1355.67 1564.07 Q1359.81 1564.07 1362.04 1562.66 Q1364.26 1561.23 1364.26 1558.65 Q1364.26 1556.27 1362.64 1554.99 Q1361.05 1553.72 1355.61 1552.54 L1353.57 1552.07 Q1348.13 1550.92 1345.71 1548.56 Q1343.29 1546.18 1343.29 1542.04 Q1343.29 1537.01 1346.85 1534.27 Q1350.42 1531.54 1356.98 1531.54 Q1360.22 1531.54 1363.09 1532.01 Q1365.95 1532.49 1368.37 1533.45 Z\" fill=\"#000000\" fill-rule=\"evenodd\" fill-opacity=\"1\" /><polyline clip-path=\"url(#clip952)\" style=\"stroke:#000000; stroke-linecap:butt; stroke-linejoin:round; stroke-width:2; stroke-opacity:0.1; fill:none\" points=\"\n",
       "  249.542,1423.18 2352.76,1423.18 \n",
       "  \"/>\n",
       "<polyline clip-path=\"url(#clip952)\" style=\"stroke:#000000; stroke-linecap:butt; stroke-linejoin:round; stroke-width:2; stroke-opacity:0.1; fill:none\" points=\"\n",
       "  249.542,1110.47 2352.76,1110.47 \n",
       "  \"/>\n",
       "<polyline clip-path=\"url(#clip952)\" style=\"stroke:#000000; stroke-linecap:butt; stroke-linejoin:round; stroke-width:2; stroke-opacity:0.1; fill:none\" points=\"\n",
       "  249.542,797.755 2352.76,797.755 \n",
       "  \"/>\n",
       "<polyline clip-path=\"url(#clip952)\" style=\"stroke:#000000; stroke-linecap:butt; stroke-linejoin:round; stroke-width:2; stroke-opacity:0.1; fill:none\" points=\"\n",
       "  249.542,485.042 2352.76,485.042 \n",
       "  \"/>\n",
       "<polyline clip-path=\"url(#clip952)\" style=\"stroke:#000000; stroke-linecap:butt; stroke-linejoin:round; stroke-width:2; stroke-opacity:0.1; fill:none\" points=\"\n",
       "  249.542,172.329 2352.76,172.329 \n",
       "  \"/>\n",
       "<polyline clip-path=\"url(#clip950)\" style=\"stroke:#000000; stroke-linecap:butt; stroke-linejoin:round; stroke-width:4; stroke-opacity:1; fill:none\" points=\"\n",
       "  249.542,1423.18 249.542,47.2441 \n",
       "  \"/>\n",
       "<polyline clip-path=\"url(#clip950)\" style=\"stroke:#000000; stroke-linecap:butt; stroke-linejoin:round; stroke-width:4; stroke-opacity:1; fill:none\" points=\"\n",
       "  249.542,1423.18 268.44,1423.18 \n",
       "  \"/>\n",
       "<polyline clip-path=\"url(#clip950)\" style=\"stroke:#000000; stroke-linecap:butt; stroke-linejoin:round; stroke-width:4; stroke-opacity:1; fill:none\" points=\"\n",
       "  249.542,1110.47 268.44,1110.47 \n",
       "  \"/>\n",
       "<polyline clip-path=\"url(#clip950)\" style=\"stroke:#000000; stroke-linecap:butt; stroke-linejoin:round; stroke-width:4; stroke-opacity:1; fill:none\" points=\"\n",
       "  249.542,797.755 268.44,797.755 \n",
       "  \"/>\n",
       "<polyline clip-path=\"url(#clip950)\" style=\"stroke:#000000; stroke-linecap:butt; stroke-linejoin:round; stroke-width:4; stroke-opacity:1; fill:none\" points=\"\n",
       "  249.542,485.042 268.44,485.042 \n",
       "  \"/>\n",
       "<polyline clip-path=\"url(#clip950)\" style=\"stroke:#000000; stroke-linecap:butt; stroke-linejoin:round; stroke-width:4; stroke-opacity:1; fill:none\" points=\"\n",
       "  249.542,172.329 268.44,172.329 \n",
       "  \"/>\n",
       "<path clip-path=\"url(#clip950)\" d=\"M126.205 1408.98 Q122.593 1408.98 120.765 1412.54 Q118.959 1416.08 118.959 1423.21 Q118.959 1430.32 120.765 1433.89 Q122.593 1437.43 126.205 1437.43 Q129.839 1437.43 131.644 1433.89 Q133.473 1430.32 133.473 1423.21 Q133.473 1416.08 131.644 1412.54 Q129.839 1408.98 126.205 1408.98 M126.205 1405.27 Q132.015 1405.27 135.07 1409.88 Q138.149 1414.46 138.149 1423.21 Q138.149 1431.94 135.07 1436.55 Q132.015 1441.13 126.205 1441.13 Q120.394 1441.13 117.316 1436.55 Q114.26 1431.94 114.26 1423.21 Q114.26 1414.46 117.316 1409.88 Q120.394 1405.27 126.205 1405.27 Z\" fill=\"#000000\" fill-rule=\"evenodd\" fill-opacity=\"1\" /><path clip-path=\"url(#clip950)\" d=\"M146.366 1434.58 L151.251 1434.58 L151.251 1440.46 L146.366 1440.46 L146.366 1434.58 Z\" fill=\"#000000\" fill-rule=\"evenodd\" fill-opacity=\"1\" /><path clip-path=\"url(#clip950)\" d=\"M171.436 1408.98 Q167.825 1408.98 165.996 1412.54 Q164.19 1416.08 164.19 1423.21 Q164.19 1430.32 165.996 1433.89 Q167.825 1437.43 171.436 1437.43 Q175.07 1437.43 176.876 1433.89 Q178.704 1430.32 178.704 1423.21 Q178.704 1416.08 176.876 1412.54 Q175.07 1408.98 171.436 1408.98 M171.436 1405.27 Q177.246 1405.27 180.301 1409.88 Q183.38 1414.46 183.38 1423.21 Q183.38 1431.94 180.301 1436.55 Q177.246 1441.13 171.436 1441.13 Q165.626 1441.13 162.547 1436.55 Q159.491 1431.94 159.491 1423.21 Q159.491 1414.46 162.547 1409.88 Q165.626 1405.27 171.436 1405.27 Z\" fill=\"#000000\" fill-rule=\"evenodd\" fill-opacity=\"1\" /><path clip-path=\"url(#clip950)\" d=\"M201.598 1408.98 Q197.987 1408.98 196.158 1412.54 Q194.352 1416.08 194.352 1423.21 Q194.352 1430.32 196.158 1433.89 Q197.987 1437.43 201.598 1437.43 Q205.232 1437.43 207.037 1433.89 Q208.866 1430.32 208.866 1423.21 Q208.866 1416.08 207.037 1412.54 Q205.232 1408.98 201.598 1408.98 M201.598 1405.27 Q207.408 1405.27 210.463 1409.88 Q213.542 1414.46 213.542 1423.21 Q213.542 1431.94 210.463 1436.55 Q207.408 1441.13 201.598 1441.13 Q195.787 1441.13 192.709 1436.55 Q189.653 1431.94 189.653 1423.21 Q189.653 1414.46 192.709 1409.88 Q195.787 1405.27 201.598 1405.27 Z\" fill=\"#000000\" fill-rule=\"evenodd\" fill-opacity=\"1\" /><path clip-path=\"url(#clip950)\" d=\"M127.2 1096.27 Q123.589 1096.27 121.76 1099.83 Q119.955 1103.37 119.955 1110.5 Q119.955 1117.61 121.76 1121.17 Q123.589 1124.71 127.2 1124.71 Q130.834 1124.71 132.64 1121.17 Q134.468 1117.61 134.468 1110.5 Q134.468 1103.37 132.64 1099.83 Q130.834 1096.27 127.2 1096.27 M127.2 1092.56 Q133.01 1092.56 136.066 1097.17 Q139.144 1101.75 139.144 1110.5 Q139.144 1119.23 136.066 1123.84 Q133.01 1128.42 127.2 1128.42 Q121.39 1128.42 118.311 1123.84 Q115.256 1119.23 115.256 1110.5 Q115.256 1101.75 118.311 1097.17 Q121.39 1092.56 127.2 1092.56 Z\" fill=\"#000000\" fill-rule=\"evenodd\" fill-opacity=\"1\" /><path clip-path=\"url(#clip950)\" d=\"M147.362 1121.87 L152.246 1121.87 L152.246 1127.75 L147.362 1127.75 L147.362 1121.87 Z\" fill=\"#000000\" fill-rule=\"evenodd\" fill-opacity=\"1\" /><path clip-path=\"url(#clip950)\" d=\"M166.459 1123.81 L182.778 1123.81 L182.778 1127.75 L160.834 1127.75 L160.834 1123.81 Q163.496 1121.06 168.079 1116.43 Q172.686 1111.78 173.866 1110.43 Q176.112 1107.91 176.991 1106.17 Q177.894 1104.41 177.894 1102.72 Q177.894 1099.97 175.95 1098.23 Q174.028 1096.5 170.927 1096.5 Q168.727 1096.5 166.274 1097.26 Q163.843 1098.03 161.065 1099.58 L161.065 1094.85 Q163.89 1093.72 166.343 1093.14 Q168.797 1092.56 170.834 1092.56 Q176.204 1092.56 179.399 1095.25 Q182.593 1097.93 182.593 1102.42 Q182.593 1104.55 181.783 1106.47 Q180.996 1108.37 178.889 1110.96 Q178.311 1111.64 175.209 1114.85 Q172.107 1118.05 166.459 1123.81 Z\" fill=\"#000000\" fill-rule=\"evenodd\" fill-opacity=\"1\" /><path clip-path=\"url(#clip950)\" d=\"M192.639 1093.19 L210.996 1093.19 L210.996 1097.12 L196.922 1097.12 L196.922 1105.59 Q197.94 1105.25 198.959 1105.09 Q199.977 1104.9 200.996 1104.9 Q206.783 1104.9 210.162 1108.07 Q213.542 1111.24 213.542 1116.66 Q213.542 1122.24 210.07 1125.34 Q206.598 1128.42 200.278 1128.42 Q198.102 1128.42 195.834 1128.05 Q193.588 1127.68 191.181 1126.94 L191.181 1122.24 Q193.264 1123.37 195.487 1123.93 Q197.709 1124.48 200.186 1124.48 Q204.19 1124.48 206.528 1122.38 Q208.866 1120.27 208.866 1116.66 Q208.866 1113.05 206.528 1110.94 Q204.19 1108.84 200.186 1108.84 Q198.311 1108.84 196.436 1109.25 Q194.584 1109.67 192.639 1110.55 L192.639 1093.19 Z\" fill=\"#000000\" fill-rule=\"evenodd\" fill-opacity=\"1\" /><path clip-path=\"url(#clip950)\" d=\"M126.205 783.553 Q122.593 783.553 120.765 787.118 Q118.959 790.66 118.959 797.789 Q118.959 804.896 120.765 808.46 Q122.593 812.002 126.205 812.002 Q129.839 812.002 131.644 808.46 Q133.473 804.896 133.473 797.789 Q133.473 790.66 131.644 787.118 Q129.839 783.553 126.205 783.553 M126.205 779.85 Q132.015 779.85 135.07 784.456 Q138.149 789.039 138.149 797.789 Q138.149 806.516 135.07 811.122 Q132.015 815.706 126.205 815.706 Q120.394 815.706 117.316 811.122 Q114.26 806.516 114.26 797.789 Q114.26 789.039 117.316 784.456 Q120.394 779.85 126.205 779.85 Z\" fill=\"#000000\" fill-rule=\"evenodd\" fill-opacity=\"1\" /><path clip-path=\"url(#clip950)\" d=\"M146.366 809.155 L151.251 809.155 L151.251 815.035 L146.366 815.035 L146.366 809.155 Z\" fill=\"#000000\" fill-rule=\"evenodd\" fill-opacity=\"1\" /><path clip-path=\"url(#clip950)\" d=\"M161.482 780.475 L179.839 780.475 L179.839 784.41 L165.765 784.41 L165.765 792.882 Q166.783 792.535 167.802 792.373 Q168.82 792.187 169.839 792.187 Q175.626 792.187 179.005 795.359 Q182.385 798.53 182.385 803.947 Q182.385 809.525 178.913 812.627 Q175.44 815.706 169.121 815.706 Q166.945 815.706 164.677 815.335 Q162.431 814.965 160.024 814.224 L160.024 809.525 Q162.107 810.66 164.329 811.215 Q166.552 811.771 169.028 811.771 Q173.033 811.771 175.371 809.664 Q177.709 807.558 177.709 803.947 Q177.709 800.336 175.371 798.229 Q173.033 796.123 169.028 796.123 Q167.153 796.123 165.278 796.539 Q163.427 796.956 161.482 797.836 L161.482 780.475 Z\" fill=\"#000000\" fill-rule=\"evenodd\" fill-opacity=\"1\" /><path clip-path=\"url(#clip950)\" d=\"M201.598 783.553 Q197.987 783.553 196.158 787.118 Q194.352 790.66 194.352 797.789 Q194.352 804.896 196.158 808.46 Q197.987 812.002 201.598 812.002 Q205.232 812.002 207.037 808.46 Q208.866 804.896 208.866 797.789 Q208.866 790.66 207.037 787.118 Q205.232 783.553 201.598 783.553 M201.598 779.85 Q207.408 779.85 210.463 784.456 Q213.542 789.039 213.542 797.789 Q213.542 806.516 210.463 811.122 Q207.408 815.706 201.598 815.706 Q195.787 815.706 192.709 811.122 Q189.653 806.516 189.653 797.789 Q189.653 789.039 192.709 784.456 Q195.787 779.85 201.598 779.85 Z\" fill=\"#000000\" fill-rule=\"evenodd\" fill-opacity=\"1\" /><path clip-path=\"url(#clip950)\" d=\"M127.2 470.841 Q123.589 470.841 121.76 474.405 Q119.955 477.947 119.955 485.077 Q119.955 492.183 121.76 495.748 Q123.589 499.289 127.2 499.289 Q130.834 499.289 132.64 495.748 Q134.468 492.183 134.468 485.077 Q134.468 477.947 132.64 474.405 Q130.834 470.841 127.2 470.841 M127.2 467.137 Q133.01 467.137 136.066 471.743 Q139.144 476.327 139.144 485.077 Q139.144 493.803 136.066 498.41 Q133.01 502.993 127.2 502.993 Q121.39 502.993 118.311 498.41 Q115.256 493.803 115.256 485.077 Q115.256 476.327 118.311 471.743 Q121.39 467.137 127.2 467.137 Z\" fill=\"#000000\" fill-rule=\"evenodd\" fill-opacity=\"1\" /><path clip-path=\"url(#clip950)\" d=\"M147.362 496.442 L152.246 496.442 L152.246 502.322 L147.362 502.322 L147.362 496.442 Z\" fill=\"#000000\" fill-rule=\"evenodd\" fill-opacity=\"1\" /><path clip-path=\"url(#clip950)\" d=\"M161.251 467.762 L183.473 467.762 L183.473 469.753 L170.927 502.322 L166.042 502.322 L177.848 471.697 L161.251 471.697 L161.251 467.762 Z\" fill=\"#000000\" fill-rule=\"evenodd\" fill-opacity=\"1\" /><path clip-path=\"url(#clip950)\" d=\"M192.639 467.762 L210.996 467.762 L210.996 471.697 L196.922 471.697 L196.922 480.169 Q197.94 479.822 198.959 479.66 Q199.977 479.475 200.996 479.475 Q206.783 479.475 210.162 482.646 Q213.542 485.817 213.542 491.234 Q213.542 496.813 210.07 499.914 Q206.598 502.993 200.278 502.993 Q198.102 502.993 195.834 502.623 Q193.588 502.252 191.181 501.512 L191.181 496.813 Q193.264 497.947 195.487 498.502 Q197.709 499.058 200.186 499.058 Q204.19 499.058 206.528 496.951 Q208.866 494.845 208.866 491.234 Q208.866 487.623 206.528 485.516 Q204.19 483.41 200.186 483.41 Q198.311 483.41 196.436 483.827 Q194.584 484.243 192.639 485.123 L192.639 467.762 Z\" fill=\"#000000\" fill-rule=\"evenodd\" fill-opacity=\"1\" /><path clip-path=\"url(#clip950)\" d=\"M117.015 185.674 L124.654 185.674 L124.654 159.308 L116.343 160.975 L116.343 156.716 L124.607 155.049 L129.283 155.049 L129.283 185.674 L136.922 185.674 L136.922 189.609 L117.015 189.609 L117.015 185.674 Z\" fill=\"#000000\" fill-rule=\"evenodd\" fill-opacity=\"1\" /><path clip-path=\"url(#clip950)\" d=\"M146.366 183.73 L151.251 183.73 L151.251 189.609 L146.366 189.609 L146.366 183.73 Z\" fill=\"#000000\" fill-rule=\"evenodd\" fill-opacity=\"1\" /><path clip-path=\"url(#clip950)\" d=\"M171.436 158.128 Q167.825 158.128 165.996 161.693 Q164.19 165.234 164.19 172.364 Q164.19 179.47 165.996 183.035 Q167.825 186.577 171.436 186.577 Q175.07 186.577 176.876 183.035 Q178.704 179.47 178.704 172.364 Q178.704 165.234 176.876 161.693 Q175.07 158.128 171.436 158.128 M171.436 154.424 Q177.246 154.424 180.301 159.031 Q183.38 163.614 183.38 172.364 Q183.38 181.091 180.301 185.697 Q177.246 190.28 171.436 190.28 Q165.626 190.28 162.547 185.697 Q159.491 181.091 159.491 172.364 Q159.491 163.614 162.547 159.031 Q165.626 154.424 171.436 154.424 Z\" fill=\"#000000\" fill-rule=\"evenodd\" fill-opacity=\"1\" /><path clip-path=\"url(#clip950)\" d=\"M201.598 158.128 Q197.987 158.128 196.158 161.693 Q194.352 165.234 194.352 172.364 Q194.352 179.47 196.158 183.035 Q197.987 186.577 201.598 186.577 Q205.232 186.577 207.037 183.035 Q208.866 179.47 208.866 172.364 Q208.866 165.234 207.037 161.693 Q205.232 158.128 201.598 158.128 M201.598 154.424 Q207.408 154.424 210.463 159.031 Q213.542 163.614 213.542 172.364 Q213.542 181.091 210.463 185.697 Q207.408 190.28 201.598 190.28 Q195.787 190.28 192.709 185.697 Q189.653 181.091 189.653 172.364 Q189.653 163.614 192.709 159.031 Q195.787 154.424 201.598 154.424 Z\" fill=\"#000000\" fill-rule=\"evenodd\" fill-opacity=\"1\" /><path clip-path=\"url(#clip950)\" d=\"M16.4842 1134.29 L16.4842 1094.09 L21.895 1094.09 L21.895 1110.96 L64.0042 1110.96 L64.0042 1117.42 L21.895 1117.42 L21.895 1134.29 L16.4842 1134.29 Z\" fill=\"#000000\" fill-rule=\"evenodd\" fill-opacity=\"1\" /><path clip-path=\"url(#clip950)\" d=\"M32.4621 1085.41 Q32.4621 1090.12 36.1542 1092.85 Q39.8145 1095.59 46.212 1095.59 Q52.6095 1095.59 56.3017 1092.89 Q59.9619 1090.15 59.9619 1085.41 Q59.9619 1080.73 56.2698 1077.99 Q52.5777 1075.25 46.212 1075.25 Q39.8781 1075.25 36.186 1077.99 Q32.4621 1080.73 32.4621 1085.41 M27.4968 1085.41 Q27.4968 1077.77 32.4621 1073.41 Q37.4273 1069.05 46.212 1069.05 Q54.9649 1069.05 59.9619 1073.41 Q64.9272 1077.77 64.9272 1085.41 Q64.9272 1093.08 59.9619 1097.44 Q54.9649 1101.77 46.212 1101.77 Q37.4273 1101.77 32.4621 1097.44 Q27.4968 1093.08 27.4968 1085.41 Z\" fill=\"#000000\" fill-rule=\"evenodd\" fill-opacity=\"1\" /><path clip-path=\"url(#clip950)\" d=\"M33.8307 1038.68 Q33.2578 1039.67 33.0032 1040.85 Q32.7167 1041.99 32.7167 1043.39 Q32.7167 1048.36 35.9632 1051.03 Q39.1779 1053.67 45.2253 1053.67 L64.0042 1053.67 L64.0042 1059.56 L28.3562 1059.56 L28.3562 1053.67 L33.8944 1053.67 Q30.6479 1051.83 29.0883 1048.87 Q27.4968 1045.91 27.4968 1041.67 Q27.4968 1041.07 27.5923 1040.34 Q27.656 1039.6 27.8151 1038.71 L33.8307 1038.68 Z\" fill=\"#000000\" fill-rule=\"evenodd\" fill-opacity=\"1\" /><path clip-path=\"url(#clip950)\" d=\"M18.2347 1026.75 L28.3562 1026.75 L28.3562 1014.68 L32.9077 1014.68 L32.9077 1026.75 L52.2594 1026.75 Q56.6199 1026.75 57.8613 1025.57 Q59.1026 1024.36 59.1026 1020.7 L59.1026 1014.68 L64.0042 1014.68 L64.0042 1020.7 Q64.0042 1027.48 61.4897 1030.06 Q58.9434 1032.63 52.2594 1032.63 L32.9077 1032.63 L32.9077 1036.93 L28.3562 1036.93 L28.3562 1032.63 L18.2347 1032.63 L18.2347 1026.75 Z\" fill=\"#000000\" fill-rule=\"evenodd\" fill-opacity=\"1\" /><path clip-path=\"url(#clip950)\" d=\"M49.9359 1007.58 L28.3562 1007.58 L28.3562 1001.73 L49.7131 1001.73 Q54.7739 1001.73 57.3202 999.755 Q59.8346 997.781 59.8346 993.835 Q59.8346 989.092 56.8109 986.355 Q53.7872 983.586 48.5673 983.586 L28.3562 983.586 L28.3562 977.729 L64.0042 977.729 L64.0042 983.586 L58.5296 983.586 Q61.7762 985.718 63.3676 988.551 Q64.9272 991.352 64.9272 995.076 Q64.9272 1001.22 61.1078 1004.4 Q57.2883 1007.58 49.9359 1007.58 M27.4968 992.848 L27.4968 992.848 Z\" fill=\"#000000\" fill-rule=\"evenodd\" fill-opacity=\"1\" /><path clip-path=\"url(#clip950)\" d=\"M32.4621 951.853 Q32.4621 956.564 36.1542 959.301 Q39.8145 962.038 46.212 962.038 Q52.6095 962.038 56.3017 959.333 Q59.9619 956.595 59.9619 951.853 Q59.9619 947.174 56.2698 944.437 Q52.5777 941.7 46.212 941.7 Q39.8781 941.7 36.186 944.437 Q32.4621 947.174 32.4621 951.853 M27.4968 951.853 Q27.4968 944.214 32.4621 939.854 Q37.4273 935.493 46.212 935.493 Q54.9649 935.493 59.9619 939.854 Q64.9272 944.214 64.9272 951.853 Q64.9272 959.524 59.9619 963.884 Q54.9649 968.213 46.212 968.213 Q37.4273 968.213 32.4621 963.884 Q27.4968 959.524 27.4968 951.853 Z\" fill=\"#000000\" fill-rule=\"evenodd\" fill-opacity=\"1\" /><path clip-path=\"url(#clip950)\" d=\"M29.4065 903.06 L34.9447 903.06 Q33.6716 905.542 33.035 908.216 Q32.3984 910.89 32.3984 913.754 Q32.3984 918.115 33.7352 920.311 Q35.072 922.475 37.7456 922.475 Q39.7826 922.475 40.9603 920.916 Q42.1061 919.356 43.1565 914.645 L43.6021 912.64 Q44.9389 906.402 47.3897 903.792 Q49.8086 901.15 54.1691 901.15 Q59.1344 901.15 62.0308 905.097 Q64.9272 909.012 64.9272 915.887 Q64.9272 918.751 64.3543 921.87 Q63.8132 924.958 62.6992 928.395 L56.6518 928.395 Q58.3387 925.149 59.198 921.998 Q60.0256 918.847 60.0256 915.759 Q60.0256 911.622 58.6251 909.394 Q57.1929 907.166 54.6147 907.166 Q52.2276 907.166 50.9545 908.789 Q49.6813 910.38 48.5037 915.823 L48.0262 917.86 Q46.8804 923.303 44.5251 925.722 Q42.138 928.141 38.0002 928.141 Q32.9713 928.141 30.2341 924.576 Q27.4968 921.011 27.4968 914.454 Q27.4968 911.208 27.9743 908.343 Q28.4517 905.479 29.4065 903.06 Z\" fill=\"#000000\" fill-rule=\"evenodd\" fill-opacity=\"1\" /><path clip-path=\"url(#clip950)\" d=\"M28.3562 891.824 L28.3562 885.968 L64.0042 885.968 L64.0042 891.824 L28.3562 891.824 M14.479 891.824 L14.479 885.968 L21.895 885.968 L21.895 891.824 L14.479 891.824 Z\" fill=\"#000000\" fill-rule=\"evenodd\" fill-opacity=\"1\" /><path clip-path=\"url(#clip950)\" d=\"M18.2347 867.921 L28.3562 867.921 L28.3562 855.858 L32.9077 855.858 L32.9077 867.921 L52.2594 867.921 Q56.6199 867.921 57.8613 866.743 Q59.1026 865.534 59.1026 861.874 L59.1026 855.858 L64.0042 855.858 L64.0042 861.874 Q64.0042 868.653 61.4897 871.231 Q58.9434 873.809 52.2594 873.809 L32.9077 873.809 L32.9077 878.106 L28.3562 878.106 L28.3562 873.809 L18.2347 873.809 L18.2347 867.921 Z\" fill=\"#000000\" fill-rule=\"evenodd\" fill-opacity=\"1\" /><path clip-path=\"url(#clip950)\" d=\"M67.3143 833.323 Q73.68 835.806 75.6216 838.161 Q77.5631 840.517 77.5631 844.463 L77.5631 849.142 L72.6615 849.142 L72.6615 845.705 Q72.6615 843.286 71.5157 841.949 Q70.3699 840.612 66.1048 838.989 L63.4312 837.939 L28.3562 852.357 L28.3562 846.15 L56.238 835.01 L28.3562 823.87 L28.3562 817.664 L67.3143 833.323 Z\" fill=\"#000000\" fill-rule=\"evenodd\" fill-opacity=\"1\" /><path clip-path=\"url(#clip950)\" d=\"M14.5426 774.791 Q21.8632 779.056 29.0246 781.125 Q36.186 783.193 43.5384 783.193 Q50.8908 783.193 58.1159 781.125 Q65.3091 779.024 72.5979 774.791 L72.5979 779.883 Q65.1182 784.658 57.8931 787.045 Q50.668 789.4 43.5384 789.4 Q36.4406 789.4 29.2474 787.045 Q22.0542 784.689 14.5426 779.883 L14.5426 774.791 Z\" fill=\"#000000\" fill-rule=\"evenodd\" fill-opacity=\"1\" /><path clip-path=\"url(#clip950)\" d=\"M33.7671 739.97 L14.479 739.97 L14.479 734.114 L64.0042 734.114 L64.0042 739.97 L58.657 739.97 Q61.8398 741.816 63.3994 744.649 Q64.9272 747.45 64.9272 751.397 Q64.9272 757.858 59.771 761.932 Q54.6147 765.974 46.212 765.974 Q37.8093 765.974 32.6531 761.932 Q27.4968 757.858 27.4968 751.397 Q27.4968 747.45 29.0564 744.649 Q30.5842 741.816 33.7671 739.97 M46.212 759.927 Q52.6732 759.927 56.3653 757.285 Q60.0256 754.611 60.0256 749.964 Q60.0256 745.318 56.3653 742.644 Q52.6732 739.97 46.212 739.97 Q39.7508 739.97 36.0905 742.644 Q32.3984 745.318 32.3984 749.964 Q32.3984 754.611 36.0905 757.285 Q39.7508 759.927 46.212 759.927 Z\" fill=\"#000000\" fill-rule=\"evenodd\" fill-opacity=\"1\" /><path clip-path=\"url(#clip950)\" d=\"M28.3562 722.051 L28.3562 716.194 L64.0042 716.194 L64.0042 722.051 L28.3562 722.051 M14.479 722.051 L14.479 716.194 L21.895 716.194 L21.895 722.051 L14.479 722.051 Z\" fill=\"#000000\" fill-rule=\"evenodd\" fill-opacity=\"1\" /><path clip-path=\"url(#clip950)\" d=\"M46.0847 687.74 Q46.0847 694.837 47.7079 697.575 Q49.3312 700.312 53.2461 700.312 Q56.3653 700.312 58.2114 698.275 Q60.0256 696.206 60.0256 692.673 Q60.0256 687.803 56.5881 684.875 Q53.1188 681.915 47.3897 681.915 L46.0847 681.915 L46.0847 687.74 M43.6657 676.059 L64.0042 676.059 L64.0042 681.915 L58.5933 681.915 Q61.8398 683.92 63.3994 686.912 Q64.9272 689.904 64.9272 694.233 Q64.9272 699.707 61.8716 702.954 Q58.7843 706.168 53.6281 706.168 Q47.6125 706.168 44.5569 702.158 Q41.5014 698.116 41.5014 690.127 L41.5014 681.915 L40.9285 681.915 Q36.8862 681.915 34.6901 684.589 Q32.4621 687.23 32.4621 692.037 Q32.4621 695.092 33.1941 697.988 Q33.9262 700.885 35.3903 703.558 L29.9795 703.558 Q28.7381 700.344 28.1334 697.32 Q27.4968 694.296 27.4968 691.432 Q27.4968 683.697 31.5072 679.878 Q35.5176 676.059 43.6657 676.059 Z\" fill=\"#000000\" fill-rule=\"evenodd\" fill-opacity=\"1\" /><path clip-path=\"url(#clip950)\" d=\"M45.7664 640.538 Q39.4007 640.538 35.8996 643.18 Q32.3984 645.79 32.3984 650.532 Q32.3984 655.243 35.8996 657.885 Q39.4007 660.494 45.7664 660.494 Q52.1003 660.494 55.6014 657.885 Q59.1026 655.243 59.1026 650.532 Q59.1026 645.79 55.6014 643.18 Q52.1003 640.538 45.7664 640.538 M59.58 634.682 Q68.683 634.682 73.1071 638.724 Q77.5631 642.766 77.5631 651.105 Q77.5631 654.192 77.0857 656.93 Q76.6401 659.667 75.6852 662.245 L69.9879 662.245 Q71.3884 659.667 72.0568 657.152 Q72.7252 654.638 72.7252 652.028 Q72.7252 646.267 69.7015 643.403 Q66.7096 640.538 60.6303 640.538 L57.7339 640.538 Q60.885 642.352 62.4446 645.185 Q64.0042 648.018 64.0042 651.964 Q64.0042 658.521 59.0071 662.532 Q54.01 666.542 45.7664 666.542 Q37.491 666.542 32.4939 662.532 Q27.4968 658.521 27.4968 651.964 Q27.4968 648.018 29.0564 645.185 Q30.616 642.352 33.7671 640.538 L28.3562 640.538 L28.3562 634.682 L59.58 634.682 Z\" fill=\"#000000\" fill-rule=\"evenodd\" fill-opacity=\"1\" /><path clip-path=\"url(#clip950)\" d=\"M32.4621 608.805 Q32.4621 613.516 36.1542 616.253 Q39.8145 618.99 46.212 618.99 Q52.6095 618.99 56.3017 616.285 Q59.9619 613.547 59.9619 608.805 Q59.9619 604.126 56.2698 601.389 Q52.5777 598.652 46.212 598.652 Q39.8781 598.652 36.186 601.389 Q32.4621 604.126 32.4621 608.805 M27.4968 608.805 Q27.4968 601.166 32.4621 596.806 Q37.4273 592.445 46.212 592.445 Q54.9649 592.445 59.9619 596.806 Q64.9272 601.166 64.9272 608.805 Q64.9272 616.476 59.9619 620.836 Q54.9649 625.165 46.212 625.165 Q37.4273 625.165 32.4621 620.836 Q27.4968 616.476 27.4968 608.805 Z\" fill=\"#000000\" fill-rule=\"evenodd\" fill-opacity=\"1\" /><path clip-path=\"url(#clip950)\" d=\"M42.4881 553.105 L64.0042 553.105 L64.0042 558.961 L42.679 558.961 Q37.6183 558.961 35.1038 560.935 Q32.5894 562.908 32.5894 566.855 Q32.5894 571.597 35.6131 574.335 Q38.6368 577.072 43.8567 577.072 L64.0042 577.072 L64.0042 582.96 L28.3562 582.96 L28.3562 577.072 L33.8944 577.072 Q30.6797 574.971 29.0883 572.138 Q27.4968 569.274 27.4968 565.55 Q27.4968 559.407 31.3163 556.256 Q35.1038 553.105 42.4881 553.105 Z\" fill=\"#000000\" fill-rule=\"evenodd\" fill-opacity=\"1\" /><path clip-path=\"url(#clip950)\" d=\"M46.0847 525.223 Q46.0847 532.321 47.7079 535.058 Q49.3312 537.795 53.2461 537.795 Q56.3653 537.795 58.2114 535.758 Q60.0256 533.69 60.0256 530.157 Q60.0256 525.287 56.5881 522.359 Q53.1188 519.399 47.3897 519.399 L46.0847 519.399 L46.0847 525.223 M43.6657 513.542 L64.0042 513.542 L64.0042 519.399 L58.5933 519.399 Q61.8398 521.404 63.3994 524.396 Q64.9272 527.388 64.9272 531.716 Q64.9272 537.191 61.8716 540.437 Q58.7843 543.652 53.6281 543.652 Q47.6125 543.652 44.5569 539.642 Q41.5014 535.599 41.5014 527.61 L41.5014 519.399 L40.9285 519.399 Q36.8862 519.399 34.6901 522.072 Q32.4621 524.714 32.4621 529.52 Q32.4621 532.576 33.1941 535.472 Q33.9262 538.368 35.3903 541.042 L29.9795 541.042 Q28.7381 537.827 28.1334 534.804 Q27.4968 531.78 27.4968 528.915 Q27.4968 521.181 31.5072 517.362 Q35.5176 513.542 43.6657 513.542 Z\" fill=\"#000000\" fill-rule=\"evenodd\" fill-opacity=\"1\" /><path clip-path=\"url(#clip950)\" d=\"M14.479 501.479 L14.479 495.623 L64.0042 495.623 L64.0042 501.479 L14.479 501.479 Z\" fill=\"#000000\" fill-rule=\"evenodd\" fill-opacity=\"1\" /><path clip-path=\"url(#clip950)\" d=\"M28.3562 483.369 L28.3562 477.512 L64.0042 477.512 L64.0042 483.369 L28.3562 483.369 M14.479 483.369 L14.479 477.512 L21.895 477.512 L21.895 483.369 L14.479 483.369 Z\" fill=\"#000000\" fill-rule=\"evenodd\" fill-opacity=\"1\" /><path clip-path=\"url(#clip950)\" d=\"M29.4065 442.533 L34.9447 442.533 Q33.6716 445.015 33.035 447.689 Q32.3984 450.363 32.3984 453.227 Q32.3984 457.588 33.7352 459.784 Q35.072 461.948 37.7456 461.948 Q39.7826 461.948 40.9603 460.388 Q42.1061 458.829 43.1565 454.118 L43.6021 452.113 Q44.9389 445.875 47.3897 443.265 Q49.8086 440.623 54.1691 440.623 Q59.1344 440.623 62.0308 444.57 Q64.9272 448.485 64.9272 455.36 Q64.9272 458.224 64.3543 461.343 Q63.8132 464.431 62.6992 467.868 L56.6518 467.868 Q58.3387 464.622 59.198 461.471 Q60.0256 458.32 60.0256 455.232 Q60.0256 451.095 58.6251 448.867 Q57.1929 446.639 54.6147 446.639 Q52.2276 446.639 50.9545 448.262 Q49.6813 449.853 48.5037 455.296 L48.0262 457.333 Q46.8804 462.776 44.5251 465.195 Q42.138 467.614 38.0002 467.614 Q32.9713 467.614 30.2341 464.049 Q27.4968 460.484 27.4968 453.927 Q27.4968 450.681 27.9743 447.816 Q28.4517 444.952 29.4065 442.533 Z\" fill=\"#000000\" fill-rule=\"evenodd\" fill-opacity=\"1\" /><path clip-path=\"url(#clip950)\" d=\"M44.7161 400.805 L47.5806 400.805 L47.5806 427.732 Q53.6281 427.35 56.8109 424.104 Q59.9619 420.826 59.9619 415.001 Q59.9619 411.627 59.1344 408.476 Q58.3069 405.293 56.6518 402.174 L62.1899 402.174 Q63.5267 405.325 64.227 408.635 Q64.9272 411.945 64.9272 415.351 Q64.9272 423.881 59.9619 428.878 Q54.9967 433.844 46.5303 433.844 Q37.7774 433.844 32.6531 429.133 Q27.4968 424.39 27.4968 416.37 Q27.4968 409.176 32.1438 405.007 Q36.7589 400.805 44.7161 400.805 M42.9973 406.662 Q38.1912 406.726 35.3266 409.367 Q32.4621 411.977 32.4621 416.306 Q32.4621 421.208 35.2312 424.168 Q38.0002 427.096 43.0292 427.541 L42.9973 406.662 Z\" fill=\"#000000\" fill-rule=\"evenodd\" fill-opacity=\"1\" /><path clip-path=\"url(#clip950)\" d=\"M33.7671 367.736 L14.479 367.736 L14.479 361.879 L64.0042 361.879 L64.0042 367.736 L58.657 367.736 Q61.8398 369.582 63.3994 372.414 Q64.9272 375.215 64.9272 379.162 Q64.9272 385.623 59.771 389.697 Q54.6147 393.74 46.212 393.74 Q37.8093 393.74 32.6531 389.697 Q27.4968 385.623 27.4968 379.162 Q27.4968 375.215 29.0564 372.414 Q30.5842 369.582 33.7671 367.736 M46.212 387.692 Q52.6732 387.692 56.3653 385.05 Q60.0256 382.377 60.0256 377.73 Q60.0256 373.083 56.3653 370.409 Q52.6732 367.736 46.212 367.736 Q39.7508 367.736 36.0905 370.409 Q32.3984 373.083 32.3984 377.73 Q32.3984 382.377 36.0905 385.05 Q39.7508 387.692 46.212 387.692 Z\" fill=\"#000000\" fill-rule=\"evenodd\" fill-opacity=\"1\" /><path clip-path=\"url(#clip950)\" d=\"M14.5426 350.739 L14.5426 345.647 Q22.0542 340.872 29.2474 338.517 Q36.4406 336.13 43.5384 336.13 Q50.668 336.13 57.8931 338.517 Q65.1182 340.872 72.5979 345.647 L72.5979 350.739 Q65.3091 346.506 58.1159 344.437 Q50.8908 342.336 43.5384 342.336 Q36.186 342.336 29.0246 344.437 Q21.8632 346.506 14.5426 350.739 Z\" fill=\"#000000\" fill-rule=\"evenodd\" fill-opacity=\"1\" /><circle clip-path=\"url(#clip952)\" cx=\"309.067\" cy=\"172.329\" r=\"14\" fill=\"#009af9\" fill-rule=\"evenodd\" fill-opacity=\"1\" stroke=\"#000000\" stroke-opacity=\"1\" stroke-width=\"3.2\"/>\n",
       "<circle clip-path=\"url(#clip952)\" cx=\"391.661\" cy=\"120.479\" r=\"14\" fill=\"#009af9\" fill-rule=\"evenodd\" fill-opacity=\"1\" stroke=\"#000000\" stroke-opacity=\"1\" stroke-width=\"3.2\"/>\n",
       "<circle clip-path=\"url(#clip952)\" cx=\"557.015\" cy=\"179.305\" r=\"14\" fill=\"#009af9\" fill-rule=\"evenodd\" fill-opacity=\"1\" stroke=\"#000000\" stroke-opacity=\"1\" stroke-width=\"3.2\"/>\n",
       "<circle clip-path=\"url(#clip952)\" cx=\"805.046\" cy=\"301.883\" r=\"14\" fill=\"#009af9\" fill-rule=\"evenodd\" fill-opacity=\"1\" stroke=\"#000000\" stroke-opacity=\"1\" stroke-width=\"3.2\"/>\n",
       "<circle clip-path=\"url(#clip952)\" cx=\"1053.08\" cy=\"339.669\" r=\"14\" fill=\"#009af9\" fill-rule=\"evenodd\" fill-opacity=\"1\" stroke=\"#000000\" stroke-opacity=\"1\" stroke-width=\"3.2\"/>\n",
       "<circle clip-path=\"url(#clip952)\" cx=\"1301.11\" cy=\"248.179\" r=\"14\" fill=\"#009af9\" fill-rule=\"evenodd\" fill-opacity=\"1\" stroke=\"#000000\" stroke-opacity=\"1\" stroke-width=\"3.2\"/>\n",
       "<circle clip-path=\"url(#clip952)\" cx=\"1549.14\" cy=\"506.3\" r=\"14\" fill=\"#009af9\" fill-rule=\"evenodd\" fill-opacity=\"1\" stroke=\"#000000\" stroke-opacity=\"1\" stroke-width=\"3.2\"/>\n",
       "<circle clip-path=\"url(#clip952)\" cx=\"1797.17\" cy=\"606.461\" r=\"14\" fill=\"#009af9\" fill-rule=\"evenodd\" fill-opacity=\"1\" stroke=\"#000000\" stroke-opacity=\"1\" stroke-width=\"3.2\"/>\n",
       "<circle clip-path=\"url(#clip952)\" cx=\"2045.2\" cy=\"395.377\" r=\"14\" fill=\"#009af9\" fill-rule=\"evenodd\" fill-opacity=\"1\" stroke=\"#000000\" stroke-opacity=\"1\" stroke-width=\"3.2\"/>\n",
       "<circle clip-path=\"url(#clip952)\" cx=\"2293.23\" cy=\"397.647\" r=\"14\" fill=\"#009af9\" fill-rule=\"evenodd\" fill-opacity=\"1\" stroke=\"#000000\" stroke-opacity=\"1\" stroke-width=\"3.2\"/>\n",
       "<path clip-path=\"url(#clip950)\" d=\"\n",
       "M1822.41 196.789 L2282.65 196.789 L2282.65 93.1086 L1822.41 93.1086  Z\n",
       "  \" fill=\"#ffffff\" fill-rule=\"evenodd\" fill-opacity=\"1\"/>\n",
       "<polyline clip-path=\"url(#clip950)\" style=\"stroke:#000000; stroke-linecap:butt; stroke-linejoin:round; stroke-width:4; stroke-opacity:1; fill:none\" points=\"\n",
       "  1822.41,196.789 2282.65,196.789 2282.65,93.1086 1822.41,93.1086 1822.41,196.789 \n",
       "  \"/>\n",
       "<circle clip-path=\"url(#clip950)\" cx=\"1915.88\" cy=\"144.949\" r=\"23\" fill=\"#009af9\" fill-rule=\"evenodd\" fill-opacity=\"1\" stroke=\"#000000\" stroke-opacity=\"1\" stroke-width=\"5.12\"/>\n",
       "<path clip-path=\"url(#clip950)\" d=\"M2016.77 128.942 L2016.77 136.303 L2025.54 136.303 L2025.54 139.613 L2016.77 139.613 L2016.77 153.687 Q2016.77 156.858 2017.62 157.761 Q2018.5 158.664 2021.17 158.664 L2025.54 158.664 L2025.54 162.229 L2021.17 162.229 Q2016.24 162.229 2014.36 160.4 Q2012.49 158.548 2012.49 153.687 L2012.49 139.613 L2009.36 139.613 L2009.36 136.303 L2012.49 136.303 L2012.49 128.942 L2016.77 128.942 Z\" fill=\"#000000\" fill-rule=\"evenodd\" fill-opacity=\"1\" /><path clip-path=\"url(#clip950)\" d=\"M2041.19 139.289 Q2037.76 139.289 2035.77 141.974 Q2033.78 144.636 2033.78 149.289 Q2033.78 153.942 2035.75 156.627 Q2037.74 159.289 2041.19 159.289 Q2044.59 159.289 2046.58 156.604 Q2048.57 153.918 2048.57 149.289 Q2048.57 144.682 2046.58 141.997 Q2044.59 139.289 2041.19 139.289 M2041.19 135.678 Q2046.75 135.678 2049.92 139.289 Q2053.09 142.9 2053.09 149.289 Q2053.09 155.655 2049.92 159.289 Q2046.75 162.9 2041.19 162.9 Q2035.61 162.9 2032.44 159.289 Q2029.29 155.655 2029.29 149.289 Q2029.29 142.9 2032.44 139.289 Q2035.61 135.678 2041.19 135.678 Z\" fill=\"#000000\" fill-rule=\"evenodd\" fill-opacity=\"1\" /><path clip-path=\"url(#clip950)\" d=\"M2075.17 140.284 Q2074.45 139.868 2073.6 139.682 Q2072.76 139.474 2071.74 139.474 Q2068.13 139.474 2066.19 141.835 Q2064.27 144.173 2064.27 148.571 L2064.27 162.229 L2059.99 162.229 L2059.99 136.303 L2064.27 136.303 L2064.27 140.331 Q2065.61 137.969 2067.76 136.835 Q2069.92 135.678 2072.99 135.678 Q2073.43 135.678 2073.97 135.747 Q2074.5 135.794 2075.15 135.909 L2075.17 140.284 Z\" fill=\"#000000\" fill-rule=\"evenodd\" fill-opacity=\"1\" /><path clip-path=\"url(#clip950)\" d=\"M2083.85 128.942 L2083.85 136.303 L2092.62 136.303 L2092.62 139.613 L2083.85 139.613 L2083.85 153.687 Q2083.85 156.858 2084.71 157.761 Q2085.59 158.664 2088.25 158.664 L2092.62 158.664 L2092.62 162.229 L2088.25 162.229 Q2083.32 162.229 2081.44 160.4 Q2079.57 158.548 2079.57 153.687 L2079.57 139.613 L2076.44 139.613 L2076.44 136.303 L2079.57 136.303 L2079.57 128.942 L2083.85 128.942 Z\" fill=\"#000000\" fill-rule=\"evenodd\" fill-opacity=\"1\" /><path clip-path=\"url(#clip950)\" d=\"M2097.79 151.997 L2097.79 136.303 L2102.05 136.303 L2102.05 151.835 Q2102.05 155.516 2103.48 157.368 Q2104.92 159.196 2107.79 159.196 Q2111.24 159.196 2113.23 156.997 Q2115.24 154.798 2115.24 151.002 L2115.24 136.303 L2119.5 136.303 L2119.5 162.229 L2115.24 162.229 L2115.24 158.247 Q2113.69 160.608 2111.63 161.766 Q2109.59 162.9 2106.88 162.9 Q2102.42 162.9 2100.1 160.122 Q2097.79 157.344 2097.79 151.997 M2108.5 135.678 L2108.5 135.678 Z\" fill=\"#000000\" fill-rule=\"evenodd\" fill-opacity=\"1\" /><path clip-path=\"url(#clip950)\" d=\"M2138.32 139.289 Q2134.89 139.289 2132.9 141.974 Q2130.91 144.636 2130.91 149.289 Q2130.91 153.942 2132.88 156.627 Q2134.87 159.289 2138.32 159.289 Q2141.72 159.289 2143.71 156.604 Q2145.7 153.918 2145.7 149.289 Q2145.7 144.682 2143.71 141.997 Q2141.72 139.289 2138.32 139.289 M2138.32 135.678 Q2143.87 135.678 2147.05 139.289 Q2150.22 142.9 2150.22 149.289 Q2150.22 155.655 2147.05 159.289 Q2143.87 162.9 2138.32 162.9 Q2132.74 162.9 2129.57 159.289 Q2126.42 155.655 2126.42 149.289 Q2126.42 142.9 2129.57 139.289 Q2132.74 135.678 2138.32 135.678 Z\" fill=\"#000000\" fill-rule=\"evenodd\" fill-opacity=\"1\" /><path clip-path=\"url(#clip950)\" d=\"M2173.8 137.067 L2173.8 141.094 Q2172 140.169 2170.05 139.706 Q2168.11 139.243 2166.03 139.243 Q2162.86 139.243 2161.26 140.215 Q2159.68 141.187 2159.68 143.131 Q2159.68 144.613 2160.82 145.469 Q2161.95 146.303 2165.38 147.067 L2166.84 147.391 Q2171.37 148.363 2173.27 150.145 Q2175.19 151.905 2175.19 155.076 Q2175.19 158.687 2172.32 160.793 Q2169.48 162.9 2164.48 162.9 Q2162.39 162.9 2160.12 162.483 Q2157.88 162.09 2155.38 161.28 L2155.38 156.881 Q2157.74 158.108 2160.03 158.733 Q2162.32 159.335 2164.57 159.335 Q2167.58 159.335 2169.2 158.317 Q2170.82 157.275 2170.82 155.4 Q2170.82 153.664 2169.64 152.738 Q2168.48 151.812 2164.52 150.956 L2163.04 150.608 Q2159.08 149.775 2157.32 148.062 Q2155.56 146.326 2155.56 143.317 Q2155.56 139.659 2158.16 137.669 Q2160.75 135.678 2165.52 135.678 Q2167.88 135.678 2169.96 136.025 Q2172.05 136.372 2173.8 137.067 Z\" fill=\"#000000\" fill-rule=\"evenodd\" fill-opacity=\"1\" /><path clip-path=\"url(#clip950)\" d=\"M2181.98 136.303 L2186.24 136.303 L2186.24 162.229 L2181.98 162.229 L2181.98 136.303 M2181.98 126.21 L2186.24 126.21 L2186.24 131.604 L2181.98 131.604 L2181.98 126.21 Z\" fill=\"#000000\" fill-rule=\"evenodd\" fill-opacity=\"1\" /><path clip-path=\"url(#clip950)\" d=\"M2199.36 128.942 L2199.36 136.303 L2208.13 136.303 L2208.13 139.613 L2199.36 139.613 L2199.36 153.687 Q2199.36 156.858 2200.22 157.761 Q2201.1 158.664 2203.76 158.664 L2208.13 158.664 L2208.13 162.229 L2203.76 162.229 Q2198.83 162.229 2196.95 160.4 Q2195.08 158.548 2195.08 153.687 L2195.08 139.613 L2191.95 139.613 L2191.95 136.303 L2195.08 136.303 L2195.08 128.942 L2199.36 128.942 Z\" fill=\"#000000\" fill-rule=\"evenodd\" fill-opacity=\"1\" /><path clip-path=\"url(#clip950)\" d=\"M2224.52 164.636 Q2222.72 169.266 2221 170.678 Q2219.29 172.09 2216.42 172.09 L2213.02 172.09 L2213.02 168.525 L2215.52 168.525 Q2217.28 168.525 2218.25 167.692 Q2219.22 166.858 2220.4 163.756 L2221.17 161.812 L2210.68 136.303 L2215.19 136.303 L2223.3 156.581 L2231.4 136.303 L2235.91 136.303 L2224.52 164.636 Z\" fill=\"#000000\" fill-rule=\"evenodd\" fill-opacity=\"1\" /></svg>\n"
      ]
     },
     "execution_count": 16,
     "metadata": {},
     "output_type": "execute_result"
    }
   ],
   "source": [
    "# Tortuosity plot\n",
    "plot(times,tort_diag[1]./tort_diag[1][1], xlabel = \"Δ / s\", ylabel = \"Tortuosity (diagonalised)\", label = \"tortuosity\", seriestype=:scatter,ylims=(0,1.1))"
   ]
  },
  {
   "cell_type": "markdown",
   "id": "sensitive-crown",
   "metadata": {},
   "source": [
    "### Saving the data"
   ]
  },
  {
   "cell_type": "code",
   "execution_count": 17,
   "id": "adopted-concert",
   "metadata": {},
   "outputs": [
    {
     "data": {
      "text/plain": [
       "param (generic function with 1 method)"
      ]
     },
     "execution_count": 17,
     "metadata": {},
     "output_type": "execute_result"
    }
   ],
   "source": [
    "# Setting up save parameters\n",
    "function param(times,rho)\n",
    "    Params = [\"resolution\", \"Diff coeff\", \"no. of molecules averaged\", \"cube dimension\", \"centre cube\",\"Porosity\"]\n",
    "    Params = [push!(Params,string(0)) for i in 1:length(times)-length(Params)][1]\n",
    "    Values = [a, D, n, size(rho)[1],(150:362),(size(rho)[1]^3-sum(rho))/size(rho)[1]^3]\n",
    "    Values = [append!(Values,0) for i in 1:length(times)-length(Values)][1]\n",
    "    return Params, Values\n",
    "end"
   ]
  },
  {
   "cell_type": "code",
   "execution_count": 20,
   "id": "stunning-tumor",
   "metadata": {},
   "outputs": [],
   "source": [
    "# Saving undiagonalised data\n",
    "# The number of diffusion times must be greater than 6 (no. of parameters)\n",
    "df=DataFrame(diffusion_times_s=times,\n",
    "        Dxx=tort_undiag[1],Dxy=tort_undiag[2],Dxz=tort_undiag[3],Dyy=tort_undiag[4],Dyz=tort_undiag[5],Dzz=tort_undiag[6],\n",
    "    Params = param(times,rho)[1], Values = param(times,rho)[2])\n",
    "cd(\"*insert user save location*\")\n",
    "CSV.write(\"Test_undiag.csv\",df[:,:]);"
   ]
  },
  {
   "cell_type": "code",
   "execution_count": 19,
   "id": "hidden-riverside",
   "metadata": {},
   "outputs": [],
   "source": [
    "# Saving diagonalised data\n",
    "# The number of diffusion times must be greater than 6 (no. of parameters)\n",
    "df=DataFrame(diffusion_times_s=times,\n",
    "        D_Delta=tort_diag[1],D_xx=tort_diag[2],D_yy=tort_diag[3],D_zz=tort_diag[4],\n",
    "    Params = param(times,rho)[1], Values = param(times,rho)[2])\n",
    "cd(\"*insert user save location*\")\n",
    "CSV.write(\"Test_diag.csv\",df[:,:]);"
   ]
  },
  {
   "cell_type": "code",
   "execution_count": null,
   "id": "induced-china",
   "metadata": {},
   "outputs": [],
   "source": []
  }
 ],
 "metadata": {
  "kernelspec": {
   "display_name": "Julia 1.7.1",
   "language": "julia",
   "name": "julia-1.7"
  },
  "language_info": {
   "file_extension": ".jl",
   "mimetype": "application/julia",
   "name": "julia",
   "version": "1.7.1"
  }
 },
 "nbformat": 4,
 "nbformat_minor": 5
}
